{
 "cells": [
  {
   "cell_type": "code",
   "execution_count": 1,
   "metadata": {},
   "outputs": [],
   "source": [
    "import matplotlib.pyplot as plt\n",
    "import math\n",
    "import matplotlib.patches as patches\n",
    "import numpy as np\n",
    "import matplotlib\n",
    "matplotlib.use('nbagg')\n",
    "import matplotlib.animation as anm"
   ]
  },
  {
   "cell_type": "code",
   "execution_count": 2,
   "metadata": {},
   "outputs": [],
   "source": [
    "class World:\n",
    "    def __init__(self,time_span,time_interval,debug = False):\n",
    "        self.objects = []\n",
    "        self.debug = debug\n",
    "        self.time_span = time_span\n",
    "        self.time_interval = time_interval\n",
    "        \n",
    "    def append(self,obj):\n",
    "        self.objects.append(obj)# world座標系にobjを入れる\n",
    "        \n",
    "    def draw(self):\n",
    "        # グラフの用意\n",
    "        fig = plt.figure(figsize = (4,4))# 8*8インチの図を用意 図を描くのに必要\n",
    "        ax = fig.add_subplot(111) # サブプロット １行１列の１番目を作るという宣言\n",
    "        ax.set_aspect('equal') # 縦横比を座標の値と揃える\n",
    "        ax.set_xlim(-5,5) # x軸 -5m~5m\n",
    "        ax.set_ylim(-5,5) # y軸 -5m~5m\n",
    "        ax.set_xlabel(\"X\",fontsize = 10) #ラベル\n",
    "        ax.set_ylabel(\"Y\",fontsize = 10)\n",
    "        \n",
    "        elems = []\n",
    "        \n",
    "        if self.debug:\n",
    "            for i in range(1000):self.one_step(i,elems,ax) # デバッグ時にアニメーションをさせない\n",
    "        else:\n",
    "            # FuncAnimation内をupdate\n",
    "            self.ani = anm.FuncAnimation(fig,self.one_step,fargs = (elems,ax),\n",
    "                                         frames = int(self.time_span / self.time_interval)+1,\n",
    "                                         interval = int(self.time_interval * 1000),repeat = False)\n",
    "            plt.show()\n",
    "        \n",
    "    def one_step(self,i,elems,ax):\n",
    "        while elems: elems.pop().remove() # 二重で描かれないように\n",
    "        time_str = \"t= %.2f[s]\" % (self.time_interval * i)\n",
    "        elems.append(ax.text(-4.4,4.5,time_str,fontsize = 10))\n",
    "        for obj in self.objects:\n",
    "            obj.draw(ax,elems)\n",
    "            if hasattr(obj,\"one_step\"): obj.one_step(self.time_interval)"
   ]
  },
  {
   "cell_type": "code",
   "execution_count": 3,
   "metadata": {},
   "outputs": [],
   "source": [
    "class IdealRobot:\n",
    "    def __init__(self,pose,agent = None,color = \"black\"):\n",
    "        self.pose = pose\n",
    "        self.r = 0.2\n",
    "        self.color = color\n",
    "        self.agent = agent\n",
    "        self.poses = [pose]\n",
    "    # r:ロボットの半径\n",
    "    def draw(self,ax,elems):\n",
    "        x,y,theta = self.pose\n",
    "        xn = x + self.r * math.cos(theta)\n",
    "        yn = y + self.r * math.sin(theta)\n",
    "        elems += ax.plot([x,xn],[y,yn],color = self.color)\n",
    "        c = patches.Circle(xy = (x,y),radius = self.r,fill = False,color = self.color)\n",
    "        elems.append(ax.add_patch(c))\n",
    "        \n",
    "        self.poses.append(self.pose)\n",
    "        elems += ax.plot([e[0] for e in self.poses],[e[1] for e in self.poses],linewidth = 0.5,color = \"black\")\n",
    "    \n",
    "    # 移動後の状態を返す\n",
    "    @classmethod\n",
    "    def state_transition(cls,nu,omega,time,pose):\n",
    "        t0 = pose[2]\n",
    "        if math.fabs(omega) < 1e-10:\n",
    "            return pose + np.array([nu * math.cos(t0),nu * math.sin(t0),omega]) * time\n",
    "        \n",
    "        else:\n",
    "            return pose + np.array([nu / omega * (math.sin(t0 + omega * time) - math.sin(t0)),\n",
    "                                    nu / omega * (-math.cos(t0 + omega * time) + math.cos(t0)),omega * time])\n",
    "    \n",
    "    # 姿勢の更新\n",
    "    def one_step(self,time_interval):\n",
    "        if not self.agent: return #self.agentが空\n",
    "        nu,omega = self.agent.decision()\n",
    "        # time_interval:１ステップが何秒か指定\n",
    "        self.pose = self.state_transition(nu,omega,time_interval,self.pose)"
   ]
  },
  {
   "cell_type": "code",
   "execution_count": 4,
   "metadata": {},
   "outputs": [],
   "source": [
    "class Agent:\n",
    "    def __init__(self,nu,omega):\n",
    "        self.nu = nu;\n",
    "        self.omega = omega\n",
    "    \n",
    "    # selfに格納されているパラメータをバラす\n",
    "    def decision(self,observation = None):\n",
    "        return self.nu,self.omega\n",
    "    "
   ]
  },
  {
   "cell_type": "code",
   "execution_count": 9,
   "metadata": {},
   "outputs": [],
   "source": [
    "class Landmark:\n",
    "    def __init__(self,x,y):\n",
    "        self.pos = np.array([x,y]).T\n",
    "        self.id = None\n",
    "        \n",
    "    def draw(self,ax,elems):\n",
    "        # s:点のサイズ\n",
    "        c = ax.scatter(self.pos[0],self.pos[1],s = 100,marker = \"*\",label = \"landmarks\",color = \"orange\")\n",
    "        elems.append(c)\n",
    "        elems.append(ax.text(self.pos[0],self.pos[1],\"id\" + str(self.id),fontsize = 10))"
   ]
  },
  {
   "cell_type": "code",
   "execution_count": null,
   "metadata": {},
   "outputs": [],
   "source": [
    "class Map:\n",
    "    "
   ]
  },
  {
   "cell_type": "code",
   "execution_count": null,
   "metadata": {},
   "outputs": [],
   "source": [
    "world = World(36,1)\n",
    "straight = Agent(0.2,0.0)\n",
    "circling = Agent(0.2,10.0 / 180 * math.pi)\n",
    "robot1 = IdealRobot(np.array([2,3,math.pi/6]).T,agent = straight) #(x,y,θ) = (2,3,π/6) .T -> 転置\n",
    "robot2 = IdealRobot(np.array([-2,-1,math.pi/5*6]).T,agent = circling,color = \"red\")\n",
    "robot3 = IdealRobot(np.array([0,0,0]).T,color = \"blue\")\n",
    "\n",
    "world.append(robot1)\n",
    "world.append(robot2)\n",
    "world.append(robot3)\n",
    "world.draw()"
   ]
  }
 ],
 "metadata": {
  "kernelspec": {
   "display_name": "Python 3",
   "language": "python",
   "name": "python3"
  },
  "language_info": {
   "codemirror_mode": {
    "name": "ipython",
    "version": 3
   },
   "file_extension": ".py",
   "mimetype": "text/x-python",
   "name": "python",
   "nbconvert_exporter": "python",
   "pygments_lexer": "ipython3",
   "version": "3.7.6"
  }
 },
 "nbformat": 4,
 "nbformat_minor": 4
}
