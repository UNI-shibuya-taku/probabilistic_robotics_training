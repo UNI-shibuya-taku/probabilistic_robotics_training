{
 "cells": [
  {
   "cell_type": "code",
   "execution_count": 25,
   "metadata": {},
   "outputs": [
    {
     "name": "stdout",
     "output_type": "stream",
     "text": [
      "0.003549925306303601\n"
     ]
    }
   ],
   "source": [
    "from scipy.stats import expon, norm,uniform # 指数分布の機能を提供するオブジェクト\n",
    "\n",
    "s = expon(scale = 1.0 / (1e-100 + 5))\n",
    "t = s.rvs()\n",
    "print(t)\n"
   ]
  }
 ],
 "metadata": {
  "kernelspec": {
   "display_name": "Python 3",
   "language": "python",
   "name": "python3"
  },
  "language_info": {
   "codemirror_mode": {
    "name": "ipython",
    "version": 3
   },
   "file_extension": ".py",
   "mimetype": "text/x-python",
   "name": "python",
   "nbconvert_exporter": "python",
   "pygments_lexer": "ipython3",
   "version": "3.7.6"
  }
 },
 "nbformat": 4,
 "nbformat_minor": 4
}
